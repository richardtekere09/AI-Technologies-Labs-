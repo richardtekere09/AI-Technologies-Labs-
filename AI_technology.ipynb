{
  "nbformat": 4,
  "nbformat_minor": 0,
  "metadata": {
    "colab": {
      "provenance": [],
      "authorship_tag": "ABX9TyPCpbekw2SUHIjCC0i831YE"
    },
    "kernelspec": {
      "name": "python3",
      "display_name": "Python 3"
    },
    "language_info": {
      "name": "python"
    }
  },
  "cells": [
    {
      "cell_type": "code",
      "execution_count": null,
      "metadata": {
        "id": "flKjfk0QQTO7"
      },
      "outputs": [],
      "source": []
    }
  ]
}